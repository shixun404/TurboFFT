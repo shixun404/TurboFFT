{
 "cells": [
  {
   "cell_type": "code",
   "execution_count": 53,
   "metadata": {},
   "outputs": [],
   "source": [
    "\n",
    "import torch as th\n",
    "bs = 8\n",
    "fft_size = 1024\n",
    "a = th.rand(fft_size, bs, dtype=th.cfloat)\n",
    "b = a.clone()\n",
    "b[0,0] += 1\n",
    "a_out = th.fft.fft(a, dim=0)\n",
    "b_out = th.fft.fft(b, dim=0)\n",
    "e = th.ones(bs, 1, dtype=th.cfloat)\n",
    "ae = a@e\n",
    "b_out_e = b_out@e\n",
    "ae_out = th.fft.fft(ae, dim=0)\n",
    "b_out_correct = b_out.clone()\n",
    "b_out_correct[:,0] = b_out_correct[:, 0] + (ae_out-b_out_e).squeeze()"
   ]
  },
  {
   "cell_type": "code",
   "execution_count": 54,
   "metadata": {},
   "outputs": [
    {
     "data": {
      "text/plain": [
       "tensor(3.8594e-07)"
      ]
     },
     "execution_count": 54,
     "metadata": {},
     "output_type": "execute_result"
    }
   ],
   "source": [
    "(b_out - a_out)[:, 0]\n",
    "(b_out_correct - a_out).norm() / a_out.norm()"
   ]
  },
  {
   "cell_type": "code",
   "execution_count": 56,
   "metadata": {},
   "outputs": [
    {
     "name": "stdout",
     "output_type": "stream",
     "text": [
      "tensor([[32.+0.j],\n",
      "        [ 0.+0.j],\n",
      "        [ 0.+0.j],\n",
      "        [ 0.+0.j],\n",
      "        [ 0.+0.j],\n",
      "        [ 0.+0.j],\n",
      "        [ 0.+0.j],\n",
      "        [ 0.+0.j]]) tensor([[1.+0.j],\n",
      "        [1.+0.j],\n",
      "        [1.+0.j],\n",
      "        [1.+0.j],\n",
      "        [1.+0.j],\n",
      "        [1.+0.j],\n",
      "        [1.+0.j],\n",
      "        [1.+0.j]])\n"
     ]
    }
   ],
   "source": [
    "e_out = th.fft.fft(e * 4, dim=0)\n",
    "print(e_out, e)"
   ]
  },
  {
   "cell_type": "code",
   "execution_count": null,
   "metadata": {},
   "outputs": [],
   "source": []
  }
 ],
 "metadata": {
  "kernelspec": {
   "display_name": "Python 3",
   "language": "python",
   "name": "python3"
  },
  "language_info": {
   "codemirror_mode": {
    "name": "ipython",
    "version": 3
   },
   "file_extension": ".py",
   "mimetype": "text/x-python",
   "name": "python",
   "nbconvert_exporter": "python",
   "pygments_lexer": "ipython3",
   "version": "3.11.7"
  }
 },
 "nbformat": 4,
 "nbformat_minor": 2
}
