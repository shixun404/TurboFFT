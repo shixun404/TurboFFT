{
 "cells": [
  {
   "cell_type": "code",
   "execution_count": 1,
   "metadata": {},
   "outputs": [],
   "source": [
    "\n",
    "import torch as th\n",
    "bs = 8\n",
    "fft_size = 16\n",
    "a = th.rand(fft_size, bs, dtype=th.cfloat)\n",
    "b = a.clone()\n",
    "b[0,0] += 1\n",
    "a_out = th.fft.fft(a, dim=0)\n",
    "b_out = th.fft.fft(b, dim=0)\n",
    "e = th.ones(bs, 1, dtype=th.cfloat) + th.ones(bs, 1, dtype=th.cfloat) * 1.j\n",
    "ae = a@e\n",
    "b_out_e = b_out@e\n",
    "ae_out = th.fft.fft(ae, dim=0)\n",
    "b_out_correct = b_out.clone()\n",
    "b_out_correct[:,0] = b_out_correct[:, 0] + (ae_out-b_out_e).squeeze()"
   ]
  },
  {
   "cell_type": "code",
   "execution_count": 2,
   "metadata": {},
   "outputs": [
    {
     "ename": "NameError",
     "evalue": "name 'bs' is not defined",
     "output_type": "error",
     "traceback": [
      "\u001b[0;31m---------------------------------------------------------------------------\u001b[0m",
      "\u001b[0;31mNameError\u001b[0m                                 Traceback (most recent call last)",
      "Cell \u001b[0;32mIn[2], line 4\u001b[0m\n\u001b[1;32m      1\u001b[0m \u001b[38;5;66;03m# (b_out - a_out)[:, 0]\u001b[39;00m\n\u001b[1;32m      2\u001b[0m \u001b[38;5;66;03m# (b_out_correct - a_out).norm() / a_out.norm()\u001b[39;00m\n\u001b[1;32m      3\u001b[0m \u001b[38;5;28;01mimport\u001b[39;00m \u001b[38;5;21;01mtorch\u001b[39;00m \u001b[38;5;28;01mas\u001b[39;00m \u001b[38;5;21;01mth\u001b[39;00m\n\u001b[0;32m----> 4\u001b[0m e \u001b[38;5;241m=\u001b[39m th\u001b[38;5;241m.\u001b[39mones(\u001b[43mbs\u001b[49m, \u001b[38;5;241m1\u001b[39m, dtype\u001b[38;5;241m=\u001b[39mth\u001b[38;5;241m.\u001b[39mcfloat) \u001b[38;5;241m+\u001b[39m th\u001b[38;5;241m.\u001b[39mones(bs, \u001b[38;5;241m1\u001b[39m, dtype\u001b[38;5;241m=\u001b[39mth\u001b[38;5;241m.\u001b[39mcfloat) \u001b[38;5;241m*\u001b[39m \u001b[38;5;241m1.\u001b[39mj\n\u001b[1;32m      5\u001b[0m \u001b[38;5;28mprint\u001b[39m(e)\n\u001b[1;32m      6\u001b[0m \u001b[38;5;28mprint\u001b[39m(th\u001b[38;5;241m.\u001b[39mfft\u001b[38;5;241m.\u001b[39mfft(e, dim\u001b[38;5;241m=\u001b[39m\u001b[38;5;241m0\u001b[39m))\n",
      "\u001b[0;31mNameError\u001b[0m: name 'bs' is not defined"
     ]
    }
   ],
   "source": [
    "# (b_out - a_out)[:, 0]\n",
    "# (b_out_correct - a_out).norm() / a_out.norm()\n",
    "import torch as th\n",
    "e = th.ones(16, 1, dtype=th.cfloat) + th.ones(16, 1, dtype=th.cfloat) * 1.j\n",
    "print(e)\n",
    "print(th.fft.fft(e, dim=0))"
   ]
  },
  {
   "cell_type": "code",
   "execution_count": 56,
   "metadata": {},
   "outputs": [
    {
     "name": "stdout",
     "output_type": "stream",
     "text": [
      "tensor([[32.+0.j],\n",
      "        [ 0.+0.j],\n",
      "        [ 0.+0.j],\n",
      "        [ 0.+0.j],\n",
      "        [ 0.+0.j],\n",
      "        [ 0.+0.j],\n",
      "        [ 0.+0.j],\n",
      "        [ 0.+0.j]]) tensor([[1.+0.j],\n",
      "        [1.+0.j],\n",
      "        [1.+0.j],\n",
      "        [1.+0.j],\n",
      "        [1.+0.j],\n",
      "        [1.+0.j],\n",
      "        [1.+0.j],\n",
      "        [1.+0.j]])\n"
     ]
    }
   ],
   "source": [
    "e_out = th.fft.fft(e * 4, dim=0)\n",
    "print(e_out, e)"
   ]
  },
  {
   "cell_type": "code",
   "execution_count": null,
   "metadata": {},
   "outputs": [],
   "source": []
  }
 ],
 "metadata": {
  "kernelspec": {
   "display_name": "Python 3",
   "language": "python",
   "name": "python3"
  },
  "language_info": {
   "codemirror_mode": {
    "name": "ipython",
    "version": 3
   },
   "file_extension": ".py",
   "mimetype": "text/x-python",
   "name": "python",
   "nbconvert_exporter": "python",
   "pygments_lexer": "ipython3",
   "version": "3.11.7"
  }
 },
 "nbformat": 4,
 "nbformat_minor": 2
}
